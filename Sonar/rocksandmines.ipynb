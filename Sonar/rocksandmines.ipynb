{
 "cells": [
  {
   "cell_type": "code",
   "execution_count": 26,
   "metadata": {},
   "outputs": [],
   "source": [
    "import pandas as pd\n",
    "from sklearn.model_selection import train_test_split as tts\n",
    "from sklearn.preprocessing import StandardScaler"
   ]
  },
  {
   "cell_type": "code",
   "execution_count": 28,
   "metadata": {},
   "outputs": [],
   "source": [
    "data = pd.read_csv('sonar.all-data.txt', header=None)\n",
    "y = data.values[:, -1]\n",
    "data = data.values[:,:-1]\n",
    "data = StandardScaler().fit_transform(data)"
   ]
  },
  {
   "cell_type": "code",
   "execution_count": 61,
   "metadata": {},
   "outputs": [],
   "source": [
    "X_train, X_test,y_train, y_test = tts(data, y, test_size=0.2, random_state=41)\n",
    "\n"
   ]
  },
  {
   "cell_type": "code",
   "execution_count": 30,
   "metadata": {},
   "outputs": [],
   "source": [
    "from sklearn.linear_model import LogisticRegression"
   ]
  },
  {
   "cell_type": "code",
   "execution_count": 31,
   "metadata": {},
   "outputs": [
    {
     "name": "stdout",
     "output_type": "stream",
     "text": [
      "0.738095238095\n"
     ]
    }
   ],
   "source": [
    "model = LogisticRegression()\n",
    "model.fit(X_train, y_train)\n",
    "score = model.score(X_test, y_test)\n",
    "print score"
   ]
  },
  {
   "cell_type": "code",
   "execution_count": 32,
   "metadata": {},
   "outputs": [
    {
     "name": "stdout",
     "output_type": "stream",
     "text": [
      "0.761904761905\n"
     ]
    }
   ],
   "source": [
    "from sklearn.svm import SVC\n",
    "model = SVC()\n",
    "model.fit(X_train, y_train)\n",
    "score = model.score(X_test, y_test)\n",
    "print score"
   ]
  },
  {
   "cell_type": "code",
   "execution_count": 33,
   "metadata": {},
   "outputs": [
    {
     "name": "stdout",
     "output_type": "stream",
     "text": [
      "0.642857142857\n"
     ]
    }
   ],
   "source": [
    "from sklearn.ensemble import RandomForestClassifier\n",
    "model = RandomForestClassifier()\n",
    "model.fit(X_train, y_train)\n",
    "score = model.score(X_test, y_test)\n",
    "print score"
   ]
  },
  {
   "cell_type": "code",
   "execution_count": 34,
   "metadata": {},
   "outputs": [
    {
     "name": "stdout",
     "output_type": "stream",
     "text": [
      "0.738095238095\n"
     ]
    }
   ],
   "source": [
    "from sklearn.ensemble import GradientBoostingClassifier\n",
    "model = GradientBoostingClassifier()\n",
    "model.fit(X_train, y_train)\n",
    "score = model.score(X_test, y_test)\n",
    "print score"
   ]
  },
  {
   "cell_type": "code",
   "execution_count": 9,
   "metadata": {},
   "outputs": [
    {
     "name": "stderr",
     "output_type": "stream",
     "text": [
      "Using TensorFlow backend.\n"
     ]
    }
   ],
   "source": [
    "from keras.layers import Dense\n",
    "from keras.optimizers import Adagrad\n",
    "from keras.models import Sequential"
   ]
  },
  {
   "cell_type": "code",
   "execution_count": 57,
   "metadata": {},
   "outputs": [],
   "source": [
    "model = Sequential()\n",
    "model.add(Dense(10, input_dim= 60, activation='relu'))\n",
    "model.add(Dense(5, activation='relu'))\n",
    "model.add(Dense(2, activation='sigmoid'))"
   ]
  },
  {
   "cell_type": "code",
   "execution_count": 58,
   "metadata": {
    "collapsed": true
   },
   "outputs": [],
   "source": [
    "model.compile(loss='binary_crossentropy', metrics=['accuracy'], optimizer=Adagrad())"
   ]
  },
  {
   "cell_type": "code",
   "execution_count": 53,
   "metadata": {},
   "outputs": [
    {
     "name": "stdout",
     "output_type": "stream",
     "text": [
      "_________________________________________________________________\n",
      "Layer (type)                 Output Shape              Param #   \n",
      "=================================================================\n",
      "dense_8 (Dense)              (None, 10)                610       \n",
      "_________________________________________________________________\n",
      "dense_9 (Dense)              (None, 2)                 22        \n",
      "=================================================================\n",
      "Total params: 632\n",
      "Trainable params: 632\n",
      "Non-trainable params: 0\n",
      "_________________________________________________________________\n"
     ]
    }
   ],
   "source": [
    "model.summary()"
   ]
  },
  {
   "cell_type": "code",
   "execution_count": 13,
   "metadata": {
    "collapsed": true
   },
   "outputs": [],
   "source": [
    "from keras.utils import np_utils\n"
   ]
  },
  {
   "cell_type": "code",
   "execution_count": 14,
   "metadata": {},
   "outputs": [],
   "source": [
    "from sklearn.preprocessing import LabelEncoder"
   ]
  },
  {
   "cell_type": "code",
   "execution_count": 38,
   "metadata": {},
   "outputs": [],
   "source": [
    "y_train = np_utils.to_categorical(LabelEncoder().fit_transform(y_train))\n",
    "y_test = np_utils.to_categorical(LabelEncoder().fit_transform(y_test))"
   ]
  },
  {
   "cell_type": "code",
   "execution_count": 59,
   "metadata": {},
   "outputs": [
    {
     "name": "stdout",
     "output_type": "stream",
     "text": [
      "Epoch 1/100\n",
      "166/166 [==============================] - 0s - loss: 0.7301 - acc: 0.5000     \n",
      "Epoch 2/100\n",
      "166/166 [==============================] - 0s - loss: 0.6934 - acc: 0.4970     \n",
      "Epoch 3/100\n",
      "166/166 [==============================] - 0s - loss: 0.6790 - acc: 0.5060     \n",
      "Epoch 4/100\n",
      "166/166 [==============================] - 0s - loss: 0.6659 - acc: 0.5271     \n",
      "Epoch 5/100\n",
      "166/166 [==============================] - 0s - loss: 0.6534 - acc: 0.5331     \n",
      "Epoch 6/100\n",
      "166/166 [==============================] - 0s - loss: 0.6451 - acc: 0.5422     \n",
      "Epoch 7/100\n",
      "166/166 [==============================] - 0s - loss: 0.6367 - acc: 0.5452     \n",
      "Epoch 8/100\n",
      "166/166 [==============================] - 0s - loss: 0.6289 - acc: 0.5663     \n",
      "Epoch 9/100\n",
      "166/166 [==============================] - 0s - loss: 0.6209 - acc: 0.5813     \n",
      "Epoch 10/100\n",
      "166/166 [==============================] - 0s - loss: 0.6140 - acc: 0.5904     \n",
      "Epoch 11/100\n",
      "166/166 [==============================] - 0s - loss: 0.6068 - acc: 0.6205     \n",
      "Epoch 12/100\n",
      "166/166 [==============================] - 0s - loss: 0.5986 - acc: 0.6416     \n",
      "Epoch 13/100\n",
      "166/166 [==============================] - 0s - loss: 0.5901 - acc: 0.6747     \n",
      "Epoch 14/100\n",
      "166/166 [==============================] - 0s - loss: 0.5840 - acc: 0.6958     \n",
      "Epoch 15/100\n",
      "166/166 [==============================] - 0s - loss: 0.5761 - acc: 0.7078     \n",
      "Epoch 16/100\n",
      "166/166 [==============================] - 0s - loss: 0.5690 - acc: 0.7199     \n",
      "Epoch 17/100\n",
      "166/166 [==============================] - 0s - loss: 0.5617 - acc: 0.7319     \n",
      "Epoch 18/100\n",
      "166/166 [==============================] - 0s - loss: 0.5545 - acc: 0.7229     \n",
      "Epoch 19/100\n",
      "166/166 [==============================] - 0s - loss: 0.5475 - acc: 0.7289     \n",
      "Epoch 20/100\n",
      "166/166 [==============================] - 0s - loss: 0.5404 - acc: 0.7410     \n",
      "Epoch 21/100\n",
      "166/166 [==============================] - 0s - loss: 0.5339 - acc: 0.7410     \n",
      "Epoch 22/100\n",
      "166/166 [==============================] - 0s - loss: 0.5277 - acc: 0.7470     \n",
      "Epoch 23/100\n",
      "166/166 [==============================] - 0s - loss: 0.5220 - acc: 0.7500     \n",
      "Epoch 24/100\n",
      "166/166 [==============================] - 0s - loss: 0.5160 - acc: 0.7500     \n",
      "Epoch 25/100\n",
      "166/166 [==============================] - 0s - loss: 0.5100 - acc: 0.7560     \n",
      "Epoch 26/100\n",
      "166/166 [==============================] - 0s - loss: 0.5043 - acc: 0.7560     \n",
      "Epoch 27/100\n",
      "166/166 [==============================] - 0s - loss: 0.4990 - acc: 0.7590     \n",
      "Epoch 28/100\n",
      "166/166 [==============================] - 0s - loss: 0.4931 - acc: 0.7560     \n",
      "Epoch 29/100\n",
      "166/166 [==============================] - 0s - loss: 0.4875 - acc: 0.7681     \n",
      "Epoch 30/100\n",
      "166/166 [==============================] - 0s - loss: 0.4822 - acc: 0.7620     \n",
      "Epoch 31/100\n",
      "166/166 [==============================] - 0s - loss: 0.4773 - acc: 0.7651     \n",
      "Epoch 32/100\n",
      "166/166 [==============================] - 0s - loss: 0.4726 - acc: 0.7801     \n",
      "Epoch 33/100\n",
      "166/166 [==============================] - 0s - loss: 0.4682 - acc: 0.7801     \n",
      "Epoch 34/100\n",
      "166/166 [==============================] - 0s - loss: 0.4637 - acc: 0.7771     \n",
      "Epoch 35/100\n",
      "166/166 [==============================] - 0s - loss: 0.4591 - acc: 0.7801     \n",
      "Epoch 36/100\n",
      "166/166 [==============================] - 0s - loss: 0.4545 - acc: 0.7831     \n",
      "Epoch 37/100\n",
      "166/166 [==============================] - 0s - loss: 0.4504 - acc: 0.7831     \n",
      "Epoch 38/100\n",
      "166/166 [==============================] - 0s - loss: 0.4468 - acc: 0.7831     \n",
      "Epoch 39/100\n",
      "166/166 [==============================] - 0s - loss: 0.4431 - acc: 0.7922     \n",
      "Epoch 40/100\n",
      "166/166 [==============================] - 0s - loss: 0.4393 - acc: 0.7922     \n",
      "Epoch 41/100\n",
      "166/166 [==============================] - 0s - loss: 0.4356 - acc: 0.7922     \n",
      "Epoch 42/100\n",
      "166/166 [==============================] - 0s - loss: 0.4313 - acc: 0.7892     \n",
      "Epoch 43/100\n",
      "166/166 [==============================] - 0s - loss: 0.4276 - acc: 0.7922     \n",
      "Epoch 44/100\n",
      "166/166 [==============================] - 0s - loss: 0.4236 - acc: 0.7922     \n",
      "Epoch 45/100\n",
      "166/166 [==============================] - 0s - loss: 0.4203 - acc: 0.7892     \n",
      "Epoch 46/100\n",
      "166/166 [==============================] - 0s - loss: 0.4169 - acc: 0.7952     \n",
      "Epoch 47/100\n",
      "166/166 [==============================] - 0s - loss: 0.4135 - acc: 0.7982     \n",
      "Epoch 48/100\n",
      "166/166 [==============================] - 0s - loss: 0.4104 - acc: 0.7982     \n",
      "Epoch 49/100\n",
      "166/166 [==============================] - 0s - loss: 0.4072 - acc: 0.8012     \n",
      "Epoch 50/100\n",
      "166/166 [==============================] - 0s - loss: 0.4046 - acc: 0.7982     \n",
      "Epoch 51/100\n",
      "166/166 [==============================] - 0s - loss: 0.4009 - acc: 0.8012     \n",
      "Epoch 52/100\n",
      "166/166 [==============================] - 0s - loss: 0.3980 - acc: 0.8072     \n",
      "Epoch 53/100\n",
      "166/166 [==============================] - 0s - loss: 0.3953 - acc: 0.8072     \n",
      "Epoch 54/100\n",
      "166/166 [==============================] - 0s - loss: 0.3921 - acc: 0.8072     \n",
      "Epoch 55/100\n",
      "166/166 [==============================] - 0s - loss: 0.3894 - acc: 0.8102     \n",
      "Epoch 56/100\n",
      "166/166 [==============================] - ETA: 0s - loss: 0.4074 - acc: 0.843 - 0s - loss: 0.3867 - acc: 0.8102     \n",
      "Epoch 57/100\n",
      "166/166 [==============================] - 0s - loss: 0.3840 - acc: 0.8072     \n",
      "Epoch 58/100\n",
      "166/166 [==============================] - 0s - loss: 0.3810 - acc: 0.8072     \n",
      "Epoch 59/100\n",
      "166/166 [==============================] - ETA: 0s - loss: 0.3778 - acc: 0.796 - 0s - loss: 0.3785 - acc: 0.8133     \n",
      "Epoch 60/100\n",
      "166/166 [==============================] - 0s - loss: 0.3760 - acc: 0.8163     \n",
      "Epoch 61/100\n",
      "166/166 [==============================] - 0s - loss: 0.3729 - acc: 0.8133     \n",
      "Epoch 62/100\n",
      "166/166 [==============================] - 0s - loss: 0.3702 - acc: 0.8163     \n",
      "Epoch 63/100\n",
      "166/166 [==============================] - 0s - loss: 0.3672 - acc: 0.8193     \n",
      "Epoch 64/100\n",
      "166/166 [==============================] - 0s - loss: 0.3649 - acc: 0.8253     \n",
      "Epoch 65/100\n",
      "166/166 [==============================] - 0s - loss: 0.3625 - acc: 0.8283     \n",
      "Epoch 66/100\n",
      "166/166 [==============================] - 0s - loss: 0.3598 - acc: 0.8283     \n",
      "Epoch 67/100\n",
      "166/166 [==============================] - 0s - loss: 0.3575 - acc: 0.8343     \n",
      "Epoch 68/100\n",
      "166/166 [==============================] - 0s - loss: 0.3549 - acc: 0.8373     \n",
      "Epoch 69/100\n",
      "166/166 [==============================] - 0s - loss: 0.3519 - acc: 0.8404     \n",
      "Epoch 70/100\n",
      "166/166 [==============================] - 0s - loss: 0.3485 - acc: 0.8464     \n",
      "Epoch 71/100\n",
      "166/166 [==============================] - 0s - loss: 0.3448 - acc: 0.8554     \n",
      "Epoch 72/100\n",
      "166/166 [==============================] - ETA: 0s - loss: 0.3236 - acc: 0.921 - 0s - loss: 0.3418 - acc: 0.8614     \n",
      "Epoch 73/100\n",
      "166/166 [==============================] - 0s - loss: 0.3383 - acc: 0.8675     \n",
      "Epoch 74/100\n",
      "166/166 [==============================] - 0s - loss: 0.3350 - acc: 0.8675     \n",
      "Epoch 75/100\n",
      "166/166 [==============================] - 0s - loss: 0.3319 - acc: 0.8705     \n",
      "Epoch 76/100\n",
      "166/166 [==============================] - 0s - loss: 0.3275 - acc: 0.8825     \n",
      "Epoch 77/100\n",
      "166/166 [==============================] - 0s - loss: 0.3235 - acc: 0.8886     \n",
      "Epoch 78/100\n",
      "166/166 [==============================] - 0s - loss: 0.3189 - acc: 0.9036     \n",
      "Epoch 79/100\n",
      "166/166 [==============================] - 0s - loss: 0.3146 - acc: 0.9096     \n",
      "Epoch 80/100\n",
      "166/166 [==============================] - 0s - loss: 0.3107 - acc: 0.9066     \n",
      "Epoch 81/100\n",
      "166/166 [==============================] - 0s - loss: 0.3064 - acc: 0.9096     \n",
      "Epoch 82/100\n",
      "166/166 [==============================] - 0s - loss: 0.3021 - acc: 0.9066     \n",
      "Epoch 83/100\n",
      "166/166 [==============================] - 0s - loss: 0.2976 - acc: 0.9157     \n",
      "Epoch 84/100\n",
      "166/166 [==============================] - 0s - loss: 0.2925 - acc: 0.9247     \n",
      "Epoch 85/100\n",
      "166/166 [==============================] - 0s - loss: 0.2876 - acc: 0.9247     \n",
      "Epoch 86/100\n",
      "166/166 [==============================] - 0s - loss: 0.2824 - acc: 0.9337     \n",
      "Epoch 87/100\n"
     ]
    },
    {
     "name": "stdout",
     "output_type": "stream",
     "text": [
      "166/166 [==============================] - 0s - loss: 0.2777 - acc: 0.9367     \n",
      "Epoch 88/100\n",
      "166/166 [==============================] - 0s - loss: 0.2730 - acc: 0.9428     \n",
      "Epoch 89/100\n",
      "166/166 [==============================] - 0s - loss: 0.2689 - acc: 0.9428     \n",
      "Epoch 90/100\n",
      "166/166 [==============================] - 0s - loss: 0.2645 - acc: 0.9458     \n",
      "Epoch 91/100\n",
      "166/166 [==============================] - 0s - loss: 0.2602 - acc: 0.9458     \n",
      "Epoch 92/100\n",
      "166/166 [==============================] - 0s - loss: 0.2553 - acc: 0.9488     \n",
      "Epoch 93/100\n",
      "166/166 [==============================] - 0s - loss: 0.2513 - acc: 0.9488     \n",
      "Epoch 94/100\n",
      "166/166 [==============================] - 0s - loss: 0.2469 - acc: 0.9488     \n",
      "Epoch 95/100\n",
      "166/166 [==============================] - 0s - loss: 0.2427 - acc: 0.9488     \n",
      "Epoch 96/100\n",
      "166/166 [==============================] - 0s - loss: 0.2385 - acc: 0.9518     \n",
      "Epoch 97/100\n",
      "166/166 [==============================] - 0s - loss: 0.2350 - acc: 0.9548     \n",
      "Epoch 98/100\n",
      "166/166 [==============================] - 0s - loss: 0.2307 - acc: 0.9548     \n",
      "Epoch 99/100\n",
      "166/166 [==============================] - 0s - loss: 0.2264 - acc: 0.9578     \n",
      "Epoch 100/100\n",
      "166/166 [==============================] - 0s - loss: 0.2229 - acc: 0.9578     \n"
     ]
    },
    {
     "data": {
      "text/plain": [
       "<keras.callbacks.History at 0x7f4fa0880610>"
      ]
     },
     "execution_count": 59,
     "metadata": {},
     "output_type": "execute_result"
    }
   ],
   "source": [
    "model.fit(X_train, y_train, epochs=100)"
   ]
  },
  {
   "cell_type": "code",
   "execution_count": 60,
   "metadata": {},
   "outputs": [
    {
     "name": "stdout",
     "output_type": "stream",
     "text": [
      "\r",
      "32/42 [=====================>........] - ETA: 0s"
     ]
    },
    {
     "data": {
      "text/plain": [
       "[0.5513873199621836, 0.71428571712403066]"
      ]
     },
     "execution_count": 60,
     "metadata": {},
     "output_type": "execute_result"
    }
   ],
   "source": [
    "X_test = StandardScaler\n",
    "model.evaluate(X_test, y_test)"
   ]
  },
  {
   "cell_type": "code",
   "execution_count": 45,
   "metadata": {},
   "outputs": [
    {
     "data": {
      "text/plain": [
       "(166, 60)"
      ]
     },
     "execution_count": 45,
     "metadata": {},
     "output_type": "execute_result"
    }
   ],
   "source": [
    "X_train.shape"
   ]
  },
  {
   "cell_type": "code",
   "execution_count": 46,
   "metadata": {},
   "outputs": [
    {
     "data": {
      "text/plain": [
       "(166, 2)"
      ]
     },
     "execution_count": 46,
     "metadata": {},
     "output_type": "execute_result"
    }
   ],
   "source": [
    "y_train.shape"
   ]
  },
  {
   "cell_type": "code",
   "execution_count": 49,
   "metadata": {},
   "outputs": [
    {
     "data": {
      "text/plain": [
       "(42, 60)"
      ]
     },
     "execution_count": 49,
     "metadata": {},
     "output_type": "execute_result"
    }
   ],
   "source": [
    "X_test.shape"
   ]
  },
  {
   "cell_type": "code",
   "execution_count": 50,
   "metadata": {},
   "outputs": [
    {
     "data": {
      "text/plain": [
       "(42, 2)"
      ]
     },
     "execution_count": 50,
     "metadata": {},
     "output_type": "execute_result"
    }
   ],
   "source": [
    "y_test.shape"
   ]
  },
  {
   "cell_type": "code",
   "execution_count": null,
   "metadata": {
    "collapsed": true
   },
   "outputs": [],
   "source": []
  }
 ],
 "metadata": {
  "kernelspec": {
   "display_name": "Python 2",
   "language": "python",
   "name": "python2"
  },
  "language_info": {
   "codemirror_mode": {
    "name": "ipython",
    "version": 2
   },
   "file_extension": ".py",
   "mimetype": "text/x-python",
   "name": "python",
   "nbconvert_exporter": "python",
   "pygments_lexer": "ipython2",
   "version": "2.7.13"
  }
 },
 "nbformat": 4,
 "nbformat_minor": 2
}
